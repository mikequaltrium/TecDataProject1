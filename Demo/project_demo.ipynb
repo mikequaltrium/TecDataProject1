{
 "cells": [
  {
   "cell_type": "code",
   "execution_count": 2,
   "metadata": {},
   "outputs": [],
   "source": [
    "import pandas as pd\n",
    "import matplotlib.pyplot as plt\n",
    "from scipy.stats import pearsonr\n",
    "\n",
    "#Import data\n",
    "life_expectancy = pd.read_csv(\"Resources/life_expectancy.csv\", encoding = \"ISO-8859-1\")[[\"Country\",\"2017\"]]\n",
    "bmi_data = pd.read_csv(\"Resources/bmi_data_clean.csv\", encoding = \"ISO-8859-1\")\n",
    "\n",
    "#Change column names for clarity\n",
    "life_expectancy = life_expectancy.rename(columns = {\"Country\": \"Countries\", \"2017\":\"Expectancy 2017\"})\n"
   ]
  },
  {
   "cell_type": "code",
   "execution_count": 3,
   "metadata": {},
   "outputs": [
    {
     "data": {
      "text/html": [
       "<div>\n",
       "<style scoped>\n",
       "    .dataframe tbody tr th:only-of-type {\n",
       "        vertical-align: middle;\n",
       "    }\n",
       "\n",
       "    .dataframe tbody tr th {\n",
       "        vertical-align: top;\n",
       "    }\n",
       "\n",
       "    .dataframe thead th {\n",
       "        text-align: right;\n",
       "    }\n",
       "</style>\n",
       "<table border=\"1\" class=\"dataframe\">\n",
       "  <thead>\n",
       "    <tr style=\"text-align: right;\">\n",
       "      <th></th>\n",
       "      <th>Countries</th>\n",
       "      <th>Expectancy 2017</th>\n",
       "      <th>1975</th>\n",
       "      <th>1976</th>\n",
       "      <th>1977</th>\n",
       "      <th>1978</th>\n",
       "      <th>1979</th>\n",
       "      <th>1980</th>\n",
       "      <th>1981</th>\n",
       "      <th>1982</th>\n",
       "      <th>...</th>\n",
       "      <th>2007</th>\n",
       "      <th>2008</th>\n",
       "      <th>2009</th>\n",
       "      <th>2010</th>\n",
       "      <th>2011</th>\n",
       "      <th>2012</th>\n",
       "      <th>2013</th>\n",
       "      <th>2014</th>\n",
       "      <th>2015</th>\n",
       "      <th>2016</th>\n",
       "    </tr>\n",
       "  </thead>\n",
       "  <tbody>\n",
       "    <tr>\n",
       "      <td>0</td>\n",
       "      <td>Afghanistan</td>\n",
       "      <td>64.0</td>\n",
       "      <td>18.9</td>\n",
       "      <td>19.0</td>\n",
       "      <td>19.2</td>\n",
       "      <td>19.3</td>\n",
       "      <td>19.4</td>\n",
       "      <td>19.5</td>\n",
       "      <td>19.6</td>\n",
       "      <td>19.8</td>\n",
       "      <td>...</td>\n",
       "      <td>22.4</td>\n",
       "      <td>22.5</td>\n",
       "      <td>22.6</td>\n",
       "      <td>22.7</td>\n",
       "      <td>22.8</td>\n",
       "      <td>22.9</td>\n",
       "      <td>23.0</td>\n",
       "      <td>23.2</td>\n",
       "      <td>23.3</td>\n",
       "      <td>23.4</td>\n",
       "    </tr>\n",
       "    <tr>\n",
       "      <td>1</td>\n",
       "      <td>Albania</td>\n",
       "      <td>78.5</td>\n",
       "      <td>23.8</td>\n",
       "      <td>23.8</td>\n",
       "      <td>23.9</td>\n",
       "      <td>23.9</td>\n",
       "      <td>24.0</td>\n",
       "      <td>24.1</td>\n",
       "      <td>24.1</td>\n",
       "      <td>24.2</td>\n",
       "      <td>...</td>\n",
       "      <td>25.8</td>\n",
       "      <td>25.9</td>\n",
       "      <td>26.0</td>\n",
       "      <td>26.1</td>\n",
       "      <td>26.2</td>\n",
       "      <td>26.3</td>\n",
       "      <td>26.4</td>\n",
       "      <td>26.5</td>\n",
       "      <td>26.6</td>\n",
       "      <td>26.7</td>\n",
       "    </tr>\n",
       "    <tr>\n",
       "      <td>2</td>\n",
       "      <td>Algeria</td>\n",
       "      <td>76.3</td>\n",
       "      <td>21.9</td>\n",
       "      <td>22.0</td>\n",
       "      <td>22.0</td>\n",
       "      <td>22.1</td>\n",
       "      <td>22.2</td>\n",
       "      <td>22.3</td>\n",
       "      <td>22.4</td>\n",
       "      <td>22.5</td>\n",
       "      <td>...</td>\n",
       "      <td>24.8</td>\n",
       "      <td>24.9</td>\n",
       "      <td>25.0</td>\n",
       "      <td>25.1</td>\n",
       "      <td>25.1</td>\n",
       "      <td>25.2</td>\n",
       "      <td>25.3</td>\n",
       "      <td>25.4</td>\n",
       "      <td>25.5</td>\n",
       "      <td>25.5</td>\n",
       "    </tr>\n",
       "    <tr>\n",
       "      <td>3</td>\n",
       "      <td>Andorra</td>\n",
       "      <td>81.7</td>\n",
       "      <td>25.4</td>\n",
       "      <td>25.5</td>\n",
       "      <td>25.6</td>\n",
       "      <td>25.6</td>\n",
       "      <td>25.7</td>\n",
       "      <td>25.8</td>\n",
       "      <td>25.9</td>\n",
       "      <td>25.9</td>\n",
       "      <td>...</td>\n",
       "      <td>26.8</td>\n",
       "      <td>26.8</td>\n",
       "      <td>26.8</td>\n",
       "      <td>26.8</td>\n",
       "      <td>26.8</td>\n",
       "      <td>26.8</td>\n",
       "      <td>26.8</td>\n",
       "      <td>26.7</td>\n",
       "      <td>26.7</td>\n",
       "      <td>26.7</td>\n",
       "    </tr>\n",
       "    <tr>\n",
       "      <td>4</td>\n",
       "      <td>Angola</td>\n",
       "      <td>61.8</td>\n",
       "      <td>18.8</td>\n",
       "      <td>18.9</td>\n",
       "      <td>19.0</td>\n",
       "      <td>19.2</td>\n",
       "      <td>19.3</td>\n",
       "      <td>19.4</td>\n",
       "      <td>19.5</td>\n",
       "      <td>19.6</td>\n",
       "      <td>...</td>\n",
       "      <td>22.5</td>\n",
       "      <td>22.6</td>\n",
       "      <td>22.7</td>\n",
       "      <td>22.8</td>\n",
       "      <td>22.9</td>\n",
       "      <td>23.0</td>\n",
       "      <td>23.1</td>\n",
       "      <td>23.2</td>\n",
       "      <td>23.2</td>\n",
       "      <td>23.3</td>\n",
       "    </tr>\n",
       "  </tbody>\n",
       "</table>\n",
       "<p>5 rows × 44 columns</p>\n",
       "</div>"
      ],
      "text/plain": [
       "     Countries  Expectancy 2017  1975  1976  1977  1978  1979  1980  1981  \\\n",
       "0  Afghanistan             64.0  18.9  19.0  19.2  19.3  19.4  19.5  19.6   \n",
       "1      Albania             78.5  23.8  23.8  23.9  23.9  24.0  24.1  24.1   \n",
       "2      Algeria             76.3  21.9  22.0  22.0  22.1  22.2  22.3  22.4   \n",
       "3      Andorra             81.7  25.4  25.5  25.6  25.6  25.7  25.8  25.9   \n",
       "4       Angola             61.8  18.8  18.9  19.0  19.2  19.3  19.4  19.5   \n",
       "\n",
       "   1982  ...  2007  2008  2009  2010  2011  2012  2013  2014  2015  2016  \n",
       "0  19.8  ...  22.4  22.5  22.6  22.7  22.8  22.9  23.0  23.2  23.3  23.4  \n",
       "1  24.2  ...  25.8  25.9  26.0  26.1  26.2  26.3  26.4  26.5  26.6  26.7  \n",
       "2  22.5  ...  24.8  24.9  25.0  25.1  25.1  25.2  25.3  25.4  25.5  25.5  \n",
       "3  25.9  ...  26.8  26.8  26.8  26.8  26.8  26.8  26.8  26.7  26.7  26.7  \n",
       "4  19.6  ...  22.5  22.6  22.7  22.8  22.9  23.0  23.1  23.2  23.2  23.3  \n",
       "\n",
       "[5 rows x 44 columns]"
      ]
     },
     "execution_count": 3,
     "metadata": {},
     "output_type": "execute_result"
    }
   ],
   "source": [
    "#Inner join to ensure all the countries are the same in both dataframes\n",
    "joint_data = life_expectancy.merge(bmi_data, on = \"Countries\", how = \"inner\")\n",
    "\n",
    "joint_data.head()"
   ]
  },
  {
   "cell_type": "code",
   "execution_count": 4,
   "metadata": {
    "scrolled": true
   },
   "outputs": [
    {
     "data": {
      "text/plain": [
       "Countries          176\n",
       "Expectancy 2017    176\n",
       "1975               176\n",
       "1976               176\n",
       "1977               176\n",
       "1978               176\n",
       "1979               176\n",
       "1980               176\n",
       "1981               176\n",
       "1982               176\n",
       "1983               176\n",
       "1984               176\n",
       "1985               176\n",
       "1986               176\n",
       "1987               176\n",
       "1988               176\n",
       "1989               176\n",
       "1990               176\n",
       "1991               176\n",
       "1992               176\n",
       "1993               176\n",
       "1994               176\n",
       "1995               176\n",
       "1996               176\n",
       "1997               176\n",
       "1998               176\n",
       "1999               176\n",
       "2000               176\n",
       "2001               176\n",
       "2002               176\n",
       "2003               176\n",
       "2004               176\n",
       "2005               176\n",
       "2006               176\n",
       "2007               176\n",
       "2008               176\n",
       "2009               176\n",
       "2010               176\n",
       "2011               176\n",
       "2012               176\n",
       "2013               176\n",
       "2014               176\n",
       "2015               176\n",
       "2016               176\n",
       "dtype: int64"
      ]
     },
     "execution_count": 4,
     "metadata": {},
     "output_type": "execute_result"
    }
   ],
   "source": [
    "# Check for missing data\n",
    "joint_data.count()"
   ]
  },
  {
   "cell_type": "code",
   "execution_count": 5,
   "metadata": {},
   "outputs": [],
   "source": [
    "# Create empty lists to keep track of values\n",
    "coeffs = []\n",
    "p_values = []\n",
    "\n",
    "# Get all the years we will be using for our analysis\n",
    "years = joint_data.columns[2:]\n",
    "\n",
    "# Get the coefficients and the p-values\n",
    "for year in years:\n",
    "    coeff, p = pearsonr(joint_data[\"Expectancy 2017\"], joint_data[year])\n",
    "    coeffs.append(coeff)\n",
    "    p_values.append(p)"
   ]
  },
  {
   "cell_type": "code",
   "execution_count": 6,
   "metadata": {},
   "outputs": [
    {
     "data": {
      "text/plain": [
       "Text(0.5, 0, 'Year')"
      ]
     },
     "execution_count": 6,
     "metadata": {},
     "output_type": "execute_result"
    },
    {
     "data": {
      "image/png": "[encoded data removed]",
      "text/plain": [
       "<Figure size 1080x360 with 1 Axes>"
      ]
     },
     "metadata": {
      "needs_background": "light"
     },
     "output_type": "display_data"
    }
   ],
   "source": [
    "# Plot the p value per year\n",
    "plt.figure(figsize = (15,5))\n",
    "plt.plot(years, p_values)\n",
    "plt.xticks(rotation=45)\n",
    "plt.title(\"P-value vs Year\")\n",
    "plt.ylabel(\"P-value\")\n",
    "plt.xlabel(\"Year\")"
   ]
  },
  {
   "cell_type": "code",
   "execution_count": 7,
   "metadata": {
    "scrolled": false
   },
   "outputs": [
    {
     "data": {
      "text/plain": [
       "Text(0.5, 0, 'Year')"
      ]
     },
     "execution_count": 7,
     "metadata": {},
     "output_type": "execute_result"
    },
    {
     "data": {
      "image/png": "[encoded data removed]",
      "text/plain": [
       "<Figure size 1080x360 with 1 Axes>"
      ]
     },
     "metadata": {
      "needs_background": "light"
     },
     "output_type": "display_data"
    }
   ],
   "source": [
    "# Plot the correlation value per year\n",
    "plt.figure(figsize = (15,5))\n",
    "plt.plot(years, coeffs)\n",
    "plt.xticks(rotation=45)\n",
    "plt.title(\"Correlation vs Year\")\n",
    "plt.ylabel(\"Correlation Coefficient\")\n",
    "plt.xlabel(\"Year\")"
   ]
  },
  {
   "cell_type": "code",
   "execution_count": 8,
   "metadata": {},
   "outputs": [
    {
     "name": "stdout",
     "output_type": "stream",
     "text": [
      "The strongest correlation occurs in the year 1975, with a correlation index of 0.6708129246664043\n",
      "The most significant correlation occurs in the year 1975, with a p-value of 2.310555059773027e-24\n"
     ]
    }
   ],
   "source": [
    "# Get the index of the largest coefficient index (absolute value) and the minimum p_value\n",
    "max_ind_c = coeffs.index(max([abs(x) for x in coeffs]))\n",
    "min_ind_p = p_values.index(min(p_values))\n",
    "\n",
    "print(f\"The strongest correlation occurs in the year {years[max_ind_c]}, with a correlation index of {coeffs[max_ind_c]}\")\n",
    "print(f\"The most significant correlation occurs in the year {years[min_ind_p]}, with a p-value of {p_values[min_ind_p]}\")"
   ]
  },
  {
   "cell_type": "markdown",
   "metadata": {},
   "source": [
    "# Análisis\n",
    "\n",
    "En este ejemplo, podríamos ver que el índice de masa corporal siempre está positivamente correlacionado con la expectativa de vida. Esto significa que entre mayor es el índice de masa corporal de un país, más años vive la gente de ese país (aunque para este ejemplo considero que sería mucho mas útil tener el porcentaje de sobrepeso y obesidad, para tener resultados que tengan más sentido).\n",
    "\n",
    "La mayor correlación ocurre en 1975, lo cual implica que los efectos del peso sobre la expectativa de vida se observan más a largo plazo.\n",
    "\n",
    "Una vez hecho este análisis para todos los factores que decidamos incluir, podemos comparar cuáles tienen un efecto más inmediato y cuáles presentan la mayor correlación."
   ]
  }
 ],
 "metadata": {
  "kernelspec": {
   "display_name": "Python 3",
   "language": "python",
   "name": "python3"
  },
  "language_info": {
   "codemirror_mode": {
    "name": "ipython",
    "version": 3
   },
   "file_extension": ".py",
   "mimetype": "text/x-python",
   "name": "python",
   "nbconvert_exporter": "python",
   "pygments_lexer": "ipython3",
   "version": "3.7.4"
  }
 },
 "nbformat": 4,
 "nbformat_minor": 2
}
